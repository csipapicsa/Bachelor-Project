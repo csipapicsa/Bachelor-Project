{
 "cells": [
  {
   "cell_type": "code",
   "execution_count": 1,
   "id": "bcf9814a",
   "metadata": {},
   "outputs": [],
   "source": [
    "import main as m\n",
    "# reload\n",
    "import importlib as i\n",
    "# reload if it is neccesarry i.reload(m)"
   ]
  },
  {
   "cell_type": "code",
   "execution_count": 3,
   "id": "06f544a7",
   "metadata": {},
   "outputs": [],
   "source": [
    "PATH = {}\n",
    "PATH[\"weather\"] = \"data/weather/\"\n",
    "DS = m.xr.open_dataset(PATH[\"weather\"]+\"orig_CO_2019_ym.nc\")\n",
    "\n",
    "# write to csv\n",
    "# DS.to_dataframe().to_csv(\"output_filename.csv\")\n",
    "# read in\n",
    "df = DS.to_dataframe()\n",
    "df = m.gpd.GeoDataFrame(\n",
    "    df, geometry=m.gpd.points_from_xy(df.lon, df.lat))\n",
    "\n",
    "# convert values\n",
    "df[\"lon\"] = df[\"lon\"].astype(float)\n",
    "df[\"lat\"] = df[\"lat\"].astype(float)\n",
    "# double conversation needs\n",
    "df.CO = df.CO.astype(float).astype(int)\n",
    "# important! \n",
    "df.crs = \"EPSG:23700\" #Hungary\n",
    "#print(df.head())\n",
    "# filter, since there are duplications\n",
    "df = df[df[\"Times_bnds\"] == 20190101.0]\n",
    "###########################################\n",
    "###########################################\n",
    "# filter focusing on Hungary\n",
    "df = df[df[\"lon\"] < 23.02]\n",
    "df = df[df[\"lon\"] > 16.072]\n",
    "df = df[df[\"lat\"] > 45.699]\n",
    "df = df[df[\"lat\"] < 48.7]\n",
    "\n",
    "# since there are only points, expand them to square\n",
    "for key in df.index:\n",
    "    df.geometry[key] = m.Polygon(((df.lon[key]-0.1, df.lat[key]),\n",
    "                (df.lon[key], df.lat[key]),\n",
    "               (df.lon[key], df.lat[key]+0.1),\n",
    "           \n",
    "               (df.lon[key]-0.1, df.lat[key]+0.1)))"
   ]
  },
  {
   "cell_type": "markdown",
   "id": "d50924c5",
   "metadata": {},
   "source": [
    "### Filtering"
   ]
  },
  {
   "cell_type": "markdown",
   "id": "0bd08506",
   "metadata": {},
   "source": [
    "A simple filter for CO level and map areas"
   ]
  },
  {
   "cell_type": "code",
   "execution_count": 5,
   "id": "77cd829b",
   "metadata": {},
   "outputs": [
    {
     "name": "stdout",
     "output_type": "stream",
     "text": [
      "Choose between  145   434\n",
      "180\n"
     ]
    },
    {
     "data": {
      "text/html": [
       "<div style=\"width:100%;\"><div style=\"position:relative;width:100%;height:0;padding-bottom:60%;\"><span style=\"color:#565656\">Make this Notebook Trusted to load map: File -> Trust Notebook</span><iframe srcdoc=\"&lt;!DOCTYPE html&gt;\n",
       "&lt;html&gt;\n",
       "&lt;head&gt;\n",
       "    \n",
       "    &lt;meta http-equiv=&quot;content-type&quot; content=&quot;text/html; charset=UTF-8&quot; /&gt;\n",
       "    \n",
       "        &lt;script&gt;\n",
       "            L_NO_TOUCH = false;\n",
       "            L_DISABLE_3D = false;\n",
       "        &lt;/script&gt;\n",
       "    \n",
       "    &lt;style&gt;html, body {width: 100%;height: 100%;margin: 0;padding: 0;}&lt;/style&gt;\n",
       "    &lt;style&gt;#map {position:absolute;top:0;bottom:0;right:0;left:0;}&lt;/style&gt;\n",
       "    &lt;script src=&quot;https://cdn.jsdelivr.net/npm/leaflet@1.9.3/dist/leaflet.js&quot;&gt;&lt;/script&gt;\n",
       "    &lt;script src=&quot;https://code.jquery.com/jquery-1.12.4.min.js&quot;&gt;&lt;/script&gt;\n",
       "    &lt;script src=&quot;https://cdn.jsdelivr.net/npm/bootstrap@5.2.2/dist/js/bootstrap.bundle.min.js&quot;&gt;&lt;/script&gt;\n",
       "    &lt;script src=&quot;https://cdnjs.cloudflare.com/ajax/libs/Leaflet.awesome-markers/2.0.2/leaflet.awesome-markers.js&quot;&gt;&lt;/script&gt;\n",
       "    &lt;link rel=&quot;stylesheet&quot; href=&quot;https://cdn.jsdelivr.net/npm/leaflet@1.9.3/dist/leaflet.css&quot;/&gt;\n",
       "    &lt;link rel=&quot;stylesheet&quot; href=&quot;https://cdn.jsdelivr.net/npm/bootstrap@5.2.2/dist/css/bootstrap.min.css&quot;/&gt;\n",
       "    &lt;link rel=&quot;stylesheet&quot; href=&quot;https://netdna.bootstrapcdn.com/bootstrap/3.0.0/css/bootstrap.min.css&quot;/&gt;\n",
       "    &lt;link rel=&quot;stylesheet&quot; href=&quot;https://cdn.jsdelivr.net/npm/@fortawesome/fontawesome-free@6.2.0/css/all.min.css&quot;/&gt;\n",
       "    &lt;link rel=&quot;stylesheet&quot; href=&quot;https://cdnjs.cloudflare.com/ajax/libs/Leaflet.awesome-markers/2.0.2/leaflet.awesome-markers.css&quot;/&gt;\n",
       "    &lt;link rel=&quot;stylesheet&quot; href=&quot;https://cdn.jsdelivr.net/gh/python-visualization/folium/folium/templates/leaflet.awesome.rotate.min.css&quot;/&gt;\n",
       "    \n",
       "            &lt;meta name=&quot;viewport&quot; content=&quot;width=device-width,\n",
       "                initial-scale=1.0, maximum-scale=1.0, user-scalable=no&quot; /&gt;\n",
       "            &lt;style&gt;\n",
       "                #map_3b910224ba16cc86836bab4206f21b8d {\n",
       "                    position: relative;\n",
       "                    width: 100.0%;\n",
       "                    height: 100.0%;\n",
       "                    left: 0.0%;\n",
       "                    top: 0.0%;\n",
       "                }\n",
       "                .leaflet-container { font-size: 1rem; }\n",
       "            &lt;/style&gt;\n",
       "        \n",
       "&lt;/head&gt;\n",
       "&lt;body&gt;\n",
       "    \n",
       "    \n",
       "            &lt;div class=&quot;folium-map&quot; id=&quot;map_3b910224ba16cc86836bab4206f21b8d&quot; &gt;&lt;/div&gt;\n",
       "        \n",
       "&lt;/body&gt;\n",
       "&lt;script&gt;\n",
       "    \n",
       "    \n",
       "            var map_3b910224ba16cc86836bab4206f21b8d = L.map(\n",
       "                &quot;map_3b910224ba16cc86836bab4206f21b8d&quot;,\n",
       "                {\n",
       "                    center: [47.762196497129665, 19.6742448729209],\n",
       "                    crs: L.CRS.EPSG3857,\n",
       "                    zoom: 7,\n",
       "                    zoomControl: true,\n",
       "                    preferCanvas: false,\n",
       "                }\n",
       "            );\n",
       "\n",
       "            \n",
       "\n",
       "        \n",
       "    \n",
       "            var tile_layer_e101f523bd0c459e80d786044ce4c822 = L.tileLayer(\n",
       "                &quot;https://{s}.tile.openstreetmap.org/{z}/{x}/{y}.png&quot;,\n",
       "                {&quot;attribution&quot;: &quot;Data by \\u0026copy; \\u003ca target=\\&quot;_blank\\&quot; href=\\&quot;http://openstreetmap.org\\&quot;\\u003eOpenStreetMap\\u003c/a\\u003e, under \\u003ca target=\\&quot;_blank\\&quot; href=\\&quot;http://www.openstreetmap.org/copyright\\&quot;\\u003eODbL\\u003c/a\\u003e.&quot;, &quot;detectRetina&quot;: false, &quot;maxNativeZoom&quot;: 18, &quot;maxZoom&quot;: 18, &quot;minZoom&quot;: 0, &quot;noWrap&quot;: false, &quot;opacity&quot;: 1, &quot;subdomains&quot;: &quot;abc&quot;, &quot;tms&quot;: false}\n",
       "            ).addTo(map_3b910224ba16cc86836bab4206f21b8d);\n",
       "        \n",
       "    \n",
       "        function geo_json_18b6a2b63ea30deac7df5fe55a558917_styler(feature) {\n",
       "            switch(feature.id) {\n",
       "                default:\n",
       "                    return {&quot;fillColor&quot;: &quot;blue&quot;, &quot;weight&quot;: 0};\n",
       "            }\n",
       "        }\n",
       "\n",
       "        function geo_json_18b6a2b63ea30deac7df5fe55a558917_onEachFeature(feature, layer) {\n",
       "            layer.on({\n",
       "            });\n",
       "        };\n",
       "        var geo_json_18b6a2b63ea30deac7df5fe55a558917 = L.geoJson(null, {\n",
       "                onEachFeature: geo_json_18b6a2b63ea30deac7df5fe55a558917_onEachFeature,\n",
       "            \n",
       "                style: geo_json_18b6a2b63ea30deac7df5fe55a558917_styler,\n",
       "        });\n",
       "\n",
       "        function geo_json_18b6a2b63ea30deac7df5fe55a558917_add (data) {\n",
       "            geo_json_18b6a2b63ea30deac7df5fe55a558917\n",
       "                .addData(data)\n",
       "                .addTo(map_3b910224ba16cc86836bab4206f21b8d);\n",
       "        }\n",
       "            geo_json_18b6a2b63ea30deac7df5fe55a558917_add({&quot;bbox&quot;: [16.0, 45.8, 21.4, 48.7], &quot;features&quot;: [{&quot;bbox&quot;: [16.0, 45.8, 21.4, 48.7], &quot;geometry&quot;: {&quot;coordinates&quot;: [[[[16.0, 45.9], [16.1, 45.9], [16.1, 45.8], [16.0, 45.8], [16.0, 45.9]]], [[[18.799999999999997, 47.0], [18.9, 47.0], [18.9, 46.9], [18.799999999999997, 46.9], [18.799999999999997, 47.0]]], [[[18.9, 47.7], [19.0, 47.7], [19.099999999999998, 47.7], [19.1, 47.7], [19.2, 47.7], [19.2, 47.6], [19.3, 47.6], [19.3, 47.5], [19.2, 47.5], [19.2, 47.4], [19.1, 47.4], [19.099999999999998, 47.4], [19.0, 47.4], [18.9, 47.4], [18.799999999999997, 47.4], [18.799999999999997, 47.5], [18.9, 47.5], [18.9, 47.6], [18.9, 47.7]]], [[[16.2, 48.2], [16.2, 48.3], [16.2, 48.300000000000004], [16.2, 48.4], [16.299999999999997, 48.4], [16.3, 48.4], [16.4, 48.4], [16.5, 48.4], [16.5, 48.300000000000004], [16.5, 48.3], [16.5, 48.2], [16.5, 48.1], [16.4, 48.1], [16.3, 48.1], [16.3, 48.0], [16.2, 48.0], [16.2, 48.1], [16.2, 48.2]]], [[[18.9, 48.7], [18.9, 48.6], [18.799999999999997, 48.6], [18.799999999999997, 48.7], [18.9, 48.7]]], [[[20.7, 48.2], [20.8, 48.2], [20.8, 48.1], [20.7, 48.1], [20.7, 48.2]]], [[[21.0, 48.4], [21.0, 48.5], [21.0, 48.6], [20.9, 48.6], [20.9, 48.7], [21.0, 48.7], [21.099999999999998, 48.7], [21.1, 48.7], [21.2, 48.7], [21.299999999999997, 48.7], [21.3, 48.7], [21.4, 48.7], [21.4, 48.6], [21.3, 48.6], [21.3, 48.5], [21.2, 48.5], [21.2, 48.4], [21.2, 48.300000000000004], [21.2, 48.3], [21.2, 48.2], [21.099999999999998, 48.2], [21.099999999999998, 48.3], [21.0, 48.3], [21.0, 48.4]]]], &quot;type&quot;: &quot;MultiPolygon&quot;}, &quot;id&quot;: &quot;0&quot;, &quot;properties&quot;: {}, &quot;type&quot;: &quot;Feature&quot;}], &quot;type&quot;: &quot;FeatureCollection&quot;});\n",
       "\n",
       "        \n",
       "&lt;/script&gt;\n",
       "&lt;/html&gt;\" style=\"position:absolute;width:100%;height:100%;left:0;top:0;border:none !important;\" allowfullscreen webkitallowfullscreen mozallowfullscreen></iframe></div></div>"
      ],
      "text/plain": [
       "<folium.folium.Map at 0x1536928f5b0>"
      ]
     },
     "metadata": {},
     "output_type": "display_data"
    }
   ],
   "source": [
    "print(\"Choose between \", min(df.CO), \" \", max(df.CO)) \n",
    "COLEVELEXCEED = int(input())\n",
    "#print(COLEVELEXCEED)\n",
    "# set a mask for developing reasons\n",
    "dfF = df[df.CO > COLEVELEXCEED]\n",
    "#dfF = df[df.CO > 150]\n",
    "\n",
    "# get boudaries\n",
    "## boundaries\n",
    "boundary1 = m.gpd.GeoSeries(m.unary_union(dfF.geometry))\n",
    "# plot\n",
    "m.multiPolygonVisualizer(boundary1)"
   ]
  },
  {
   "cell_type": "code",
   "execution_count": null,
   "id": "c581d7c4",
   "metadata": {},
   "outputs": [],
   "source": []
  }
 ],
 "metadata": {
  "kernelspec": {
   "display_name": "Python 3 (ipykernel)",
   "language": "python",
   "name": "python3"
  },
  "language_info": {
   "codemirror_mode": {
    "name": "ipython",
    "version": 3
   },
   "file_extension": ".py",
   "mimetype": "text/x-python",
   "name": "python",
   "nbconvert_exporter": "python",
   "pygments_lexer": "ipython3",
   "version": "3.10.7"
  },
  "varInspector": {
   "cols": {
    "lenName": 16,
    "lenType": 16,
    "lenVar": 40
   },
   "kernels_config": {
    "python": {
     "delete_cmd_postfix": "",
     "delete_cmd_prefix": "del ",
     "library": "var_list.py",
     "varRefreshCmd": "print(var_dic_list())"
    },
    "r": {
     "delete_cmd_postfix": ") ",
     "delete_cmd_prefix": "rm(",
     "library": "var_list.r",
     "varRefreshCmd": "cat(var_dic_list()) "
    }
   },
   "position": {
    "height": "399.844px",
    "left": "1345px",
    "right": "20px",
    "top": "120px",
    "width": "342.5px"
   },
   "types_to_exclude": [
    "module",
    "function",
    "builtin_function_or_method",
    "instance",
    "_Feature"
   ],
   "window_display": true
  }
 },
 "nbformat": 4,
 "nbformat_minor": 5
}
