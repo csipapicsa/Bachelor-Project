{
 "cells": [
  {
   "cell_type": "code",
   "execution_count": null,
   "id": "6bc68c14",
   "metadata": {
    "ExecuteTime": {
     "end_time": "2023-02-15T08:51:39.017170Z",
     "start_time": "2023-02-15T08:51:38.840640Z"
    }
   },
   "outputs": [],
   "source": [
    "import main as m\n",
    "import rasterio as rs\n",
    "from rasterio.plot import show\n",
    "\n",
    "PATH = {}\n",
    "PATH[\"weather\"] = \"data/weather/raw/\"\n",
    "PATH[\"weather-processed\"] = \"data/weather/processed/\"\n",
    "\n",
    "\n",
    "inp = 'RCM_ta_20112040_ann_p_1_HU.tif'\n",
    "inp = 'OBS_ta_19912020_JJA_o_0_HU.tif'\n",
    "inp = 'too-hot-days-19912020_ann_o_0_HU.tif'\n",
    "inp = 'perception-average-per-month--mm-month-19912020_ann_o_0_HU.tif'\n",
    "inp = 'average-temperature-year-OBS_ta_19912020_ann_o_0_HU.tif'\n",
    "inp = 'daily-maximum-perciption--mm-OBS_rx1d_19912020_ann_o_0_HU.tif'\n",
    "inp = 'wet-days--number-OBS_rr1_19912020_ann_o_0_HU.tif'\n",
    "#fp = r'inp'\n",
    "img = rs.open(PATH[\"weather\"]+inp)\n",
    "show(img)"
   ]
  },
  {
   "cell_type": "code",
   "execution_count": null,
   "id": "cb03b71d",
   "metadata": {
    "ExecuteTime": {
     "end_time": "2023-02-15T08:51:39.663092Z",
     "start_time": "2023-02-15T08:51:39.539644Z"
    }
   },
   "outputs": [],
   "source": [
    "### CHATGPT\n",
    "import rasterio\n",
    "import geopandas as gpd\n",
    "from rasterio.features import shapes\n",
    "\n",
    "# Load the GeoTIFF file into a Rasterio dataset object\n",
    "with rasterio.open(PATH[\"weather\"]+inp) as src:\n",
    "    dataset = src.read(1)\n",
    "    transform = src.transform\n",
    "    crs = src.crs\n",
    "\n",
    "# Extract the values from the raster as a list of shapes and values\n",
    "shapes = shapes(dataset, transform=transform)\n",
    "\n",
    "shapeRaw = []\n",
    "for i in shapes:\n",
    "    shapeRaw.append(i)\n",
    "\n",
    "# Convert the list of shapes and values to a GeoPandas GeoDataFrame\n",
    "# gdf = gpd.GeoDataFrame.from_features(shapes, crs=crs)\n",
    "# gdf = gpd.GeoDataFrame.from_features(shapeRaw, crs=crs)\n",
    "\n",
    "# Drop any missing or invalid values\n",
    "# gdf.dropna(inplace=True)\n",
    "\n",
    "# y is a value\n",
    "# x is a polygon\n",
    "polygons = []\n",
    "values = []\n",
    "data = []\n",
    "for x,y in shapeRaw:\n",
    "    l = []\n",
    "    l.append(x['coordinates'])\n",
    "    #print(i['coordinates'])\n",
    "    #print(i['type'])\n",
    "    l.append(y)\n",
    "    data.append(l)\n",
    "df = m.pd.DataFrame(data, columns=['geometry', 'value'])\n",
    "# depemnds on, some values could be integers, some of the floats. Should be checked.\n",
    "\n",
    "df.value = df.value.round(0) # rounding values. astype(int) doesnt save space for parquet files \n",
    "\n",
    "#df.value = df.value.astype(int) # integer save space, float = not\n",
    "gdf = gpd.GeoDataFrame(df, crs=crs, geometry=[m.Polygon(x[0]) for x in df['geometry']])\n",
    "t = gdf.to_crs({'init': 'epsg:4326'}) #4326 works since https://epsg.io/?q=4326\n",
    "t = t[t.value > min(t.value)]"
   ]
  },
  {
   "cell_type": "code",
   "execution_count": null,
   "id": "01c22533",
   "metadata": {
    "ExecuteTime": {
     "end_time": "2023-02-15T08:51:40.898129Z",
     "start_time": "2023-02-15T08:51:40.508125Z"
    },
    "scrolled": true
   },
   "outputs": [],
   "source": [
    "import folium\n",
    "import matplotlib\n",
    "import mapclassify\n",
    "display(t.explore(\"value\", cmap=\"YlGn\"))\n",
    "t.to_parquet(PATH[\"weather-processed\"]+inp+\".parquet\")"
   ]
  },
  {
   "cell_type": "code",
   "execution_count": null,
   "id": "7fe734e7",
   "metadata": {
    "ExecuteTime": {
     "end_time": "2023-02-15T08:49:37.233104Z",
     "start_time": "2023-02-15T08:49:37.221134Z"
    }
   },
   "outputs": [],
   "source": []
  },
  {
   "cell_type": "code",
   "execution_count": null,
   "id": "9eb24bce",
   "metadata": {
    "ExecuteTime": {
     "end_time": "2023-02-15T08:49:39.300216Z",
     "start_time": "2023-02-15T08:49:38.924252Z"
    }
   },
   "outputs": [],
   "source": []
  },
  {
   "cell_type": "code",
   "execution_count": null,
   "id": "7cc95694",
   "metadata": {},
   "outputs": [],
   "source": []
  }
 ],
 "metadata": {
  "kernelspec": {
   "display_name": "Python 3 (ipykernel)",
   "language": "python",
   "name": "python3"
  },
  "language_info": {
   "codemirror_mode": {
    "name": "ipython",
    "version": 3
   },
   "file_extension": ".py",
   "mimetype": "text/x-python",
   "name": "python",
   "nbconvert_exporter": "python",
   "pygments_lexer": "ipython3",
   "version": "3.10.7"
  },
  "varInspector": {
   "cols": {
    "lenName": 16,
    "lenType": 16,
    "lenVar": 40
   },
   "kernels_config": {
    "python": {
     "delete_cmd_postfix": "",
     "delete_cmd_prefix": "del ",
     "library": "var_list.py",
     "varRefreshCmd": "print(var_dic_list())"
    },
    "r": {
     "delete_cmd_postfix": ") ",
     "delete_cmd_prefix": "rm(",
     "library": "var_list.r",
     "varRefreshCmd": "cat(var_dic_list()) "
    }
   },
   "position": {
    "height": "578.809px",
    "left": "1374.95px",
    "right": "20px",
    "top": "109px",
    "width": "582.422px"
   },
   "types_to_exclude": [
    "module",
    "function",
    "builtin_function_or_method",
    "instance",
    "_Feature"
   ],
   "window_display": true
  }
 },
 "nbformat": 4,
 "nbformat_minor": 5
}
