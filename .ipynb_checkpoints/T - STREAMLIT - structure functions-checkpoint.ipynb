{
 "cells": [
  {
   "cell_type": "code",
   "execution_count": null,
   "id": "f470ea99",
   "metadata": {
    "ExecuteTime": {
     "start_time": "2023-02-25T14:27:36.805Z"
    }
   },
   "outputs": [],
   "source": [
    "import main as m"
   ]
  },
  {
   "cell_type": "code",
   "execution_count": null,
   "id": "64899bed",
   "metadata": {
    "ExecuteTime": {
     "start_time": "2023-02-25T14:27:37.965Z"
    }
   },
   "outputs": [],
   "source": [
    "from collections import defaultdict"
   ]
  },
  {
   "cell_type": "code",
   "execution_count": null,
   "id": "ef8916fb",
   "metadata": {
    "ExecuteTime": {
     "start_time": "2023-02-25T14:27:38.263Z"
    }
   },
   "outputs": [],
   "source": [
    "PATH = {}\n",
    "PATH[\"processed\"] = \"data/amenities/processed/\"\n",
    "\n",
    "\n",
    "gdf1 = m.gpd.read_parquet(PATH[\"processed\"]+ \"supermarket.parquet\")\n",
    "gdf2 = m.gpd.read_parquet(PATH[\"processed\"]+ \"pubs.parquet\")\n",
    "gdf3 = m.gpd.read_parquet(PATH[\"processed\"]+ \"motorway.parquet\")\n",
    "gdf4 = m.gpd.read_parquet(PATH[\"processed\"]+ \"library.parquet\")\n",
    "gdf5 = m.gpd.read_parquet(PATH[\"processed\"]+ \"fuel.parquet\")"
   ]
  },
  {
   "cell_type": "code",
   "execution_count": null,
   "id": "8c661c1a",
   "metadata": {
    "ExecuteTime": {
     "start_time": "2023-02-25T14:27:38.402Z"
    }
   },
   "outputs": [],
   "source": [
    "AMENITIES = [\"supermarket\", \"pubs\", \"motorway\", \"library\", \"fuelstation\"]"
   ]
  },
  {
   "cell_type": "code",
   "execution_count": null,
   "id": "f7c4240b",
   "metadata": {
    "ExecuteTime": {
     "start_time": "2023-02-25T14:27:38.528Z"
    }
   },
   "outputs": [],
   "source": [
    "amenitiesDict = defaultdict(str)"
   ]
  },
  {
   "cell_type": "code",
   "execution_count": null,
   "id": "b1a4768b",
   "metadata": {
    "ExecuteTime": {
     "start_time": "2023-02-25T14:27:07.805Z"
    }
   },
   "outputs": [],
   "source": [
    "# load\n",
    "AREA = \"polygons\"\n",
    "for i in AMENITIES:\n",
    "    amenitiesDict[str(i+\"-\"+AREA)] = m.gpd.read_parquet(PATH[\"processed\"]+ i + \".parquet\")"
   ]
  },
  {
   "cell_type": "code",
   "execution_count": null,
   "id": "fe0a3c30",
   "metadata": {
    "ExecuteTime": {
     "start_time": "2023-02-25T14:27:05.714Z"
    }
   },
   "outputs": [],
   "source": [
    "# after the radius and interest is specified do the filter\n",
    "INTEREST = [0,0,1,1,1]\n",
    "for inte, amen in zip(INTEREST, AMENITIES):\n",
    "    if inte == 1:\n",
    "        # do the thing\n",
    "        print(\"he\")\n",
    "    else:\n",
    "        None"
   ]
  },
  {
   "cell_type": "code",
   "execution_count": null,
   "id": "ffb9ebe7",
   "metadata": {},
   "outputs": [],
   "source": []
  }
 ],
 "metadata": {
  "kernelspec": {
   "display_name": "Python 3 (ipykernel)",
   "language": "python",
   "name": "python3"
  },
  "language_info": {
   "codemirror_mode": {
    "name": "ipython",
    "version": 3
   },
   "file_extension": ".py",
   "mimetype": "text/x-python",
   "name": "python",
   "nbconvert_exporter": "python",
   "pygments_lexer": "ipython3",
   "version": "3.10.7"
  },
  "varInspector": {
   "cols": {
    "lenName": 16,
    "lenType": 16,
    "lenVar": 40
   },
   "kernels_config": {
    "python": {
     "delete_cmd_postfix": "",
     "delete_cmd_prefix": "del ",
     "library": "var_list.py",
     "varRefreshCmd": "print(var_dic_list())"
    },
    "r": {
     "delete_cmd_postfix": ") ",
     "delete_cmd_prefix": "rm(",
     "library": "var_list.r",
     "varRefreshCmd": "cat(var_dic_list()) "
    }
   },
   "position": {
    "height": "456.854px",
    "left": "1451.33px",
    "right": "20px",
    "top": "120px",
    "width": "350px"
   },
   "types_to_exclude": [
    "module",
    "function",
    "builtin_function_or_method",
    "instance",
    "_Feature"
   ],
   "window_display": true
  }
 },
 "nbformat": 4,
 "nbformat_minor": 5
}
