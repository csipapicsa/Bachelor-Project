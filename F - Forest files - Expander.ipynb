{
 "cells": [
  {
   "cell_type": "code",
   "execution_count": null,
   "id": "2100bb43",
   "metadata": {
    "ExecuteTime": {
     "end_time": "2023-03-12T16:29:58.862058Z",
     "start_time": "2023-03-12T16:29:56.299056Z"
    }
   },
   "outputs": [],
   "source": [
    "import mainloc as m\n",
    "m.i.reload(m)"
   ]
  },
  {
   "cell_type": "code",
   "execution_count": null,
   "id": "bba1473a",
   "metadata": {
    "ExecuteTime": {
     "end_time": "2023-03-12T09:57:15.691095Z",
     "start_time": "2023-03-12T09:57:15.685086Z"
    }
   },
   "outputs": [],
   "source": [
    "# define ranges and save it to parquet"
   ]
  },
  {
   "cell_type": "code",
   "execution_count": null,
   "id": "cc4d2130",
   "metadata": {
    "ExecuteTime": {
     "end_time": "2023-03-12T16:41:42.347458Z",
     "start_time": "2023-03-12T16:41:42.336489Z"
    }
   },
   "outputs": [],
   "source": [
    "PATH = {}\n",
    "PATH[\"forest\"] = \"data/vegetation/forest_\""
   ]
  },
  {
   "cell_type": "code",
   "execution_count": null,
   "id": "ce76ba7b",
   "metadata": {},
   "outputs": [],
   "source": [
    "# https://geopandas.org/en/stable/docs/user_guide/projections.html"
   ]
  },
  {
   "cell_type": "code",
   "execution_count": null,
   "id": "2b951c0a",
   "metadata": {
    "ExecuteTime": {
     "end_time": "2023-03-12T16:36:59.202968Z",
     "start_time": "2023-03-12T16:36:58.868842Z"
    }
   },
   "outputs": [],
   "source": [
    "gdf5 = m.gpd.read_parquet(\"data/vegetation/forest_up_to5000.parquet\")\n",
    "\n",
    "#tiny = gdf5.head(10)"
   ]
  },
  {
   "cell_type": "code",
   "execution_count": null,
   "id": "9481721c",
   "metadata": {
    "ExecuteTime": {
     "end_time": "2023-03-12T16:37:00.485850Z",
     "start_time": "2023-03-12T16:37:00.474882Z"
    }
   },
   "outputs": [],
   "source": [
    "rangees = [100,200,300,400,500,600,700,800,900,1000,1500,2000,3000,\n",
    "          4000,5000,6000,7000,8000,9000,10000,15000,20000,30000,40000,50000,60000,70000,80000,90000,100000]"
   ]
  },
  {
   "cell_type": "code",
   "execution_count": null,
   "id": "12e35899",
   "metadata": {},
   "outputs": [],
   "source": []
  },
  {
   "cell_type": "code",
   "execution_count": null,
   "id": "4a37b100",
   "metadata": {
    "ExecuteTime": {
     "end_time": "2023-03-12T18:11:43.277525Z",
     "start_time": "2023-03-12T17:16:59.156518Z"
    }
   },
   "outputs": [],
   "source": [
    "for r in rangees[11:]:\n",
    "    # expand\n",
    "    polyg1 = m.polygonExpander(gdf5, r)\n",
    "    # eliminate overlap\n",
    "    boundary1 = m.gpd.GeoSeries(m.unary_union(polyg1.geometry))\n",
    "    # explode objects\n",
    "    gdf = boundary1.explode(index_parts=False)\n",
    "    print(len(gdf))\n",
    "    gdf = m.gpd.GeoDataFrame(gdf.geometry)\n",
    "    gdf.rename(columns={0: \"geometry\"}, inplace=True)\n",
    "    gdf.crs = \"EPSG:4326\"\n",
    "    gdf = gdf[[\"geometry\"]]\n",
    "    gdf.to_parquet(PATH[\"forest\"]+str(r)+\".parquet\", flavor=\"pyspark\")"
   ]
  },
  {
   "cell_type": "code",
   "execution_count": null,
   "id": "07e9db71",
   "metadata": {
    "ExecuteTime": {
     "end_time": "2023-03-12T16:41:02.587965Z",
     "start_time": "2023-03-12T16:40:15.183100Z"
    }
   },
   "outputs": [],
   "source": [
    "boundary1 = m.gpd.GeoSeries(m.unary_union(polyg1.geometry))"
   ]
  },
  {
   "cell_type": "code",
   "execution_count": null,
   "id": "07156c5a",
   "metadata": {
    "ExecuteTime": {
     "end_time": "2023-03-12T16:41:14.433148Z",
     "start_time": "2023-03-12T16:41:14.356293Z"
    }
   },
   "outputs": [],
   "source": [
    "gdf = boundary1.explode(index_parts=False)"
   ]
  },
  {
   "cell_type": "code",
   "execution_count": null,
   "id": "0bcf290c",
   "metadata": {
    "ExecuteTime": {
     "end_time": "2023-03-12T16:41:28.948579Z",
     "start_time": "2023-03-12T16:41:28.910682Z"
    }
   },
   "outputs": [],
   "source": [
    "print(len(gdf))\n",
    "gdf = m.gpd.GeoDataFrame(gdf.geometry)\n",
    "gdf.rename(columns={0: \"geometry\"}, inplace=True)\n",
    "gdf.crs = \"EPSG:4326\"\n"
   ]
  },
  {
   "cell_type": "code",
   "execution_count": null,
   "id": "5c22c331",
   "metadata": {
    "ExecuteTime": {
     "end_time": "2023-03-12T16:41:56.333388Z",
     "start_time": "2023-03-12T16:41:55.506314Z"
    }
   },
   "outputs": [],
   "source": [
    "gdf.to_parquet(PATH[\"forest\"]+str(r)+\".parquet\", flavor=\"pyspark\")"
   ]
  },
  {
   "cell_type": "code",
   "execution_count": null,
   "id": "170ca377",
   "metadata": {
    "ExecuteTime": {
     "end_time": "2023-03-12T16:42:54.071276Z",
     "start_time": "2023-03-12T16:42:21.430580Z"
    }
   },
   "outputs": [],
   "source": [
    "gdf.explore()"
   ]
  },
  {
   "cell_type": "code",
   "execution_count": null,
   "id": "80bd91a3",
   "metadata": {
    "ExecuteTime": {
     "end_time": "2023-03-12T16:44:04.893840Z",
     "start_time": "2023-03-12T16:44:04.861164Z"
    }
   },
   "outputs": [],
   "source": [
    "gdf = gdf[[\"geometry\"]]"
   ]
  },
  {
   "cell_type": "code",
   "execution_count": null,
   "id": "48a42278",
   "metadata": {
    "ExecuteTime": {
     "end_time": "2023-03-12T16:44:20.313940Z",
     "start_time": "2023-03-12T16:44:18.514301Z"
    }
   },
   "outputs": [],
   "source": [
    "gdf"
   ]
  },
  {
   "cell_type": "code",
   "execution_count": null,
   "id": "7ecb8d29",
   "metadata": {},
   "outputs": [],
   "source": []
  }
 ],
 "metadata": {
  "kernelspec": {
   "display_name": "Python 3 (ipykernel)",
   "language": "python",
   "name": "python3"
  },
  "language_info": {
   "codemirror_mode": {
    "name": "ipython",
    "version": 3
   },
   "file_extension": ".py",
   "mimetype": "text/x-python",
   "name": "python",
   "nbconvert_exporter": "python",
   "pygments_lexer": "ipython3",
   "version": "3.10.7"
  },
  "varInspector": {
   "cols": {
    "lenName": 16,
    "lenType": 16,
    "lenVar": 40
   },
   "kernels_config": {
    "python": {
     "delete_cmd_postfix": "",
     "delete_cmd_prefix": "del ",
     "library": "var_list.py",
     "varRefreshCmd": "print(var_dic_list())"
    },
    "r": {
     "delete_cmd_postfix": ") ",
     "delete_cmd_prefix": "rm(",
     "library": "var_list.r",
     "varRefreshCmd": "cat(var_dic_list()) "
    }
   },
   "oldHeight": 354.63578,
   "position": {
    "height": "40px",
    "left": "1200px",
    "right": "20px",
    "top": "120px",
    "width": "297.778px"
   },
   "types_to_exclude": [
    "module",
    "function",
    "builtin_function_or_method",
    "instance",
    "_Feature"
   ],
   "varInspector_section_display": "none",
   "window_display": true
  }
 },
 "nbformat": 4,
 "nbformat_minor": 5
}
