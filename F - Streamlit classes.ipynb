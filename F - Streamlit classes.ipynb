{
 "cells": [
  {
   "cell_type": "code",
   "execution_count": 1,
   "id": "4711b664",
   "metadata": {
    "ExecuteTime": {
     "end_time": "2023-03-12T10:16:39.272337Z",
     "start_time": "2023-03-12T10:16:39.253388Z"
    }
   },
   "outputs": [],
   "source": [
    "language = {}\n",
    "language[\"DESCRIPTIONS\"] = {}"
   ]
  },
  {
   "cell_type": "code",
   "execution_count": 4,
   "id": "395539a4",
   "metadata": {
    "ExecuteTime": {
     "end_time": "2023-03-12T10:17:30.871374Z",
     "start_time": "2023-03-12T10:17:30.866384Z"
    }
   },
   "outputs": [],
   "source": [
    "language[\"DESCRIPTIONS\"][\"welcome\"] = {}"
   ]
  },
  {
   "cell_type": "code",
   "execution_count": 5,
   "id": "3a49ce52",
   "metadata": {
    "ExecuteTime": {
     "end_time": "2023-03-12T10:17:49.669690Z",
     "start_time": "2023-03-12T10:17:49.653706Z"
    }
   },
   "outputs": [],
   "source": [
    "language[\"DESCRIPTIONS\"][\"welcome\"][\"ENG\"] = {}"
   ]
  },
  {
   "cell_type": "code",
   "execution_count": 6,
   "id": "d604b923",
   "metadata": {
    "ExecuteTime": {
     "end_time": "2023-03-12T10:18:05.656917Z",
     "start_time": "2023-03-12T10:18:05.649935Z"
    }
   },
   "outputs": [],
   "source": [
    "language[\"DESCRIPTIONS\"][\"welcome\"][\"ENG\"] = \"Hello bello\""
   ]
  },
  {
   "cell_type": "code",
   "execution_count": 8,
   "id": "8b305002",
   "metadata": {
    "ExecuteTime": {
     "end_time": "2023-03-12T10:18:36.259091Z",
     "start_time": "2023-03-12T10:18:36.241140Z"
    }
   },
   "outputs": [],
   "source": [
    "streamlitClass =  {}"
   ]
  },
  {
   "cell_type": "code",
   "execution_count": 9,
   "id": "33bbb174",
   "metadata": {
    "ExecuteTime": {
     "end_time": "2023-03-12T10:20:12.200316Z",
     "start_time": "2023-03-12T10:20:12.182365Z"
    }
   },
   "outputs": [],
   "source": [
    "sliderRange = list(range(10,100, 10))\n",
    "sliderRange.extend(range(100,1000, 100))\n",
    "sliderRange.extend(range(1000,10000, 1000))\n",
    "sliderRange.extend(range(10000,100000, 10000))\n",
    "sliderRange.extend(range(100000,600000, 25000))\n",
    "\n",
    "streamlitClass[\"RangeAmenities\"] = sliderRange\n",
    "\n",
    "sliderForestRanges = [100,200,300,400,500,600,700,800,900,1000,1500,2000,3000,\n",
    "          4000,5000,6000,7000,8000,9000,10000,15000,20000,30000,40000,50000,60000,70000,80000,90000,100000]\n",
    "\n",
    "streamlitClass[\"RangeAmenities\"] = sliderForestRanges"
   ]
  },
  {
   "cell_type": "code",
   "execution_count": 10,
   "id": "d95f125e",
   "metadata": {
    "ExecuteTime": {
     "end_time": "2023-03-12T10:20:26.195898Z",
     "start_time": "2023-03-12T10:20:26.179937Z"
    }
   },
   "outputs": [
    {
     "data": {
      "text/plain": [
       "[100,\n",
       " 200,\n",
       " 300,\n",
       " 400,\n",
       " 500,\n",
       " 600,\n",
       " 700,\n",
       " 800,\n",
       " 900,\n",
       " 1000,\n",
       " 1500,\n",
       " 2000,\n",
       " 3000,\n",
       " 4000,\n",
       " 5000,\n",
       " 6000,\n",
       " 7000,\n",
       " 8000,\n",
       " 9000,\n",
       " 10000,\n",
       " 15000,\n",
       " 20000,\n",
       " 30000,\n",
       " 40000,\n",
       " 50000,\n",
       " 60000,\n",
       " 70000,\n",
       " 80000,\n",
       " 90000,\n",
       " 100000]"
      ]
     },
     "execution_count": 10,
     "metadata": {},
     "output_type": "execute_result"
    }
   ],
   "source": []
  },
  {
   "cell_type": "code",
   "execution_count": null,
   "id": "83e555e0",
   "metadata": {},
   "outputs": [],
   "source": []
  }
 ],
 "metadata": {
  "kernelspec": {
   "display_name": "Python 3 (ipykernel)",
   "language": "python",
   "name": "python3"
  },
  "language_info": {
   "codemirror_mode": {
    "name": "ipython",
    "version": 3
   },
   "file_extension": ".py",
   "mimetype": "text/x-python",
   "name": "python",
   "nbconvert_exporter": "python",
   "pygments_lexer": "ipython3",
   "version": "3.10.7"
  },
  "varInspector": {
   "cols": {
    "lenName": 16,
    "lenType": 16,
    "lenVar": 40
   },
   "kernels_config": {
    "python": {
     "delete_cmd_postfix": "",
     "delete_cmd_prefix": "del ",
     "library": "var_list.py",
     "varRefreshCmd": "print(var_dic_list())"
    },
    "r": {
     "delete_cmd_postfix": ") ",
     "delete_cmd_prefix": "rm(",
     "library": "var_list.r",
     "varRefreshCmd": "cat(var_dic_list()) "
    }
   },
   "types_to_exclude": [
    "module",
    "function",
    "builtin_function_or_method",
    "instance",
    "_Feature"
   ],
   "window_display": true
  }
 },
 "nbformat": 4,
 "nbformat_minor": 5
}
